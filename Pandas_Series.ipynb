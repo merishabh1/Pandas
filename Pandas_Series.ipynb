{
  "nbformat": 4,
  "nbformat_minor": 0,
  "metadata": {
    "colab": {
      "provenance": [],
      "authorship_tag": "ABX9TyMEP5khpiAZyBSfChV0rHnX",
      "include_colab_link": true
    },
    "kernelspec": {
      "name": "python3",
      "display_name": "Python 3"
    },
    "language_info": {
      "name": "python"
    }
  },
  "cells": [
    {
      "cell_type": "markdown",
      "metadata": {
        "id": "view-in-github",
        "colab_type": "text"
      },
      "source": [
        "<a href=\"https://colab.research.google.com/github/merishabh1/Pandas/blob/main/Pandas_Series.ipynb\" target=\"_parent\"><img src=\"https://colab.research.google.com/assets/colab-badge.svg\" alt=\"Open In Colab\"/></a>"
      ]
    },
    {
      "cell_type": "code",
      "execution_count": 1,
      "metadata": {
        "id": "DZ2YxTCB3d55"
      },
      "outputs": [],
      "source": [
        "import numpy as np\n",
        "import pandas as pd"
      ]
    },
    {
      "cell_type": "code",
      "source": [
        "#help(pd.Series)"
      ],
      "metadata": {
        "id": "whRctfFg4cqu"
      },
      "execution_count": 2,
      "outputs": []
    },
    {
      "cell_type": "code",
      "source": [
        "my_index = ['USA','Canada','Mexico']"
      ],
      "metadata": {
        "id": "CztolRfV4ctA"
      },
      "execution_count": 3,
      "outputs": []
    },
    {
      "cell_type": "code",
      "source": [
        "mydata = [1776,1867,1821]"
      ],
      "metadata": {
        "id": "rp1Vkokk4cvP"
      },
      "execution_count": 4,
      "outputs": []
    },
    {
      "cell_type": "code",
      "source": [
        "myser = pd.Series(data=mydata)"
      ],
      "metadata": {
        "id": "A2iDBXdu4cxr"
      },
      "execution_count": 5,
      "outputs": []
    },
    {
      "cell_type": "code",
      "source": [
        "myser"
      ],
      "metadata": {
        "colab": {
          "base_uri": "https://localhost:8080/"
        },
        "id": "oOhAN7of4czu",
        "outputId": "adeac48c-9d0f-4aab-ee3a-ec4fd4c467b9"
      },
      "execution_count": 6,
      "outputs": [
        {
          "output_type": "execute_result",
          "data": {
            "text/plain": [
              "0    1776\n",
              "1    1867\n",
              "2    1821\n",
              "dtype: int64"
            ]
          },
          "metadata": {},
          "execution_count": 6
        }
      ]
    },
    {
      "cell_type": "code",
      "source": [
        "pd.Series(data=mydata,index=my_index)"
      ],
      "metadata": {
        "colab": {
          "base_uri": "https://localhost:8080/"
        },
        "id": "Ia_xhAIt4c2D",
        "outputId": "aa067fef-d6e0-45b1-a392-620cf61e1ea9"
      },
      "execution_count": 7,
      "outputs": [
        {
          "output_type": "execute_result",
          "data": {
            "text/plain": [
              "USA       1776\n",
              "Canada    1867\n",
              "Mexico    1821\n",
              "dtype: int64"
            ]
          },
          "metadata": {},
          "execution_count": 7
        }
      ]
    },
    {
      "cell_type": "code",
      "source": [
        "ran_data = np.random.randint(0,100,4)"
      ],
      "metadata": {
        "id": "EW4UjfHO4c4g"
      },
      "execution_count": 8,
      "outputs": []
    },
    {
      "cell_type": "code",
      "source": [
        "ran_data"
      ],
      "metadata": {
        "colab": {
          "base_uri": "https://localhost:8080/"
        },
        "id": "u2QUYnJe4c7F",
        "outputId": "22291d61-7759-4ba3-cf50-2abfecd38206"
      },
      "execution_count": 9,
      "outputs": [
        {
          "output_type": "execute_result",
          "data": {
            "text/plain": [
              "array([10, 88, 50, 80])"
            ]
          },
          "metadata": {},
          "execution_count": 9
        }
      ]
    },
    {
      "cell_type": "code",
      "source": [
        "names = ['Andrew','Bobo','Claire','David']"
      ],
      "metadata": {
        "id": "dbqwlb1h4c_N"
      },
      "execution_count": 10,
      "outputs": []
    },
    {
      "cell_type": "code",
      "source": [
        "ages = pd.Series(ran_data,names)"
      ],
      "metadata": {
        "id": "NYRkEdjW4dCC"
      },
      "execution_count": 11,
      "outputs": []
    },
    {
      "cell_type": "code",
      "source": [
        "ages"
      ],
      "metadata": {
        "colab": {
          "base_uri": "https://localhost:8080/"
        },
        "id": "JxK4n0PL4dDk",
        "outputId": "e5c009fc-46db-42bb-990d-597e15a452bc"
      },
      "execution_count": 12,
      "outputs": [
        {
          "output_type": "execute_result",
          "data": {
            "text/plain": [
              "Andrew    10\n",
              "Bobo      88\n",
              "Claire    50\n",
              "David     80\n",
              "dtype: int64"
            ]
          },
          "metadata": {},
          "execution_count": 12
        }
      ]
    },
    {
      "cell_type": "code",
      "source": [
        "ages = {'Sammy':5,'Frank':10,'Spike':7}"
      ],
      "metadata": {
        "id": "B-mnBffi4dFY"
      },
      "execution_count": 13,
      "outputs": []
    },
    {
      "cell_type": "code",
      "source": [
        "ages"
      ],
      "metadata": {
        "colab": {
          "base_uri": "https://localhost:8080/"
        },
        "id": "_s4cXKCy4dH1",
        "outputId": "1f3e1fae-0ffc-42fb-84c3-676b2c854cf0"
      },
      "execution_count": 14,
      "outputs": [
        {
          "output_type": "execute_result",
          "data": {
            "text/plain": [
              "{'Sammy': 5, 'Frank': 10, 'Spike': 7}"
            ]
          },
          "metadata": {},
          "execution_count": 14
        }
      ]
    },
    {
      "cell_type": "code",
      "source": [
        "pd.Series(ages)"
      ],
      "metadata": {
        "colab": {
          "base_uri": "https://localhost:8080/"
        },
        "id": "aHYe4ryX6ssy",
        "outputId": "c71f1efe-e4d6-4365-d29d-647611904b63"
      },
      "execution_count": 15,
      "outputs": [
        {
          "output_type": "execute_result",
          "data": {
            "text/plain": [
              "Sammy     5\n",
              "Frank    10\n",
              "Spike     7\n",
              "dtype: int64"
            ]
          },
          "metadata": {},
          "execution_count": 15
        }
      ]
    },
    {
      "cell_type": "code",
      "source": [
        "q1 = {'Japan': 80, 'China': 450, 'India': 200, 'USA': 250}\n",
        "q2 = {'Brazil': 100,'China': 500, 'India': 210,'USA': 260}"
      ],
      "metadata": {
        "id": "b_XoqfWr7YUS"
      },
      "execution_count": 16,
      "outputs": []
    },
    {
      "cell_type": "code",
      "source": [
        "sales_Q1 = pd.Series(q1)\n",
        "sales_Q2 = pd.Series(q2)"
      ],
      "metadata": {
        "id": "LtJNcuxZ7YGc"
      },
      "execution_count": 17,
      "outputs": []
    },
    {
      "cell_type": "code",
      "source": [
        "sales_Q1"
      ],
      "metadata": {
        "colab": {
          "base_uri": "https://localhost:8080/"
        },
        "id": "tj3Dl9WT7YDn",
        "outputId": "d8c047ec-d119-4486-d0fc-c4cdfb631ef3"
      },
      "execution_count": 18,
      "outputs": [
        {
          "output_type": "execute_result",
          "data": {
            "text/plain": [
              "Japan     80\n",
              "China    450\n",
              "India    200\n",
              "USA      250\n",
              "dtype: int64"
            ]
          },
          "metadata": {},
          "execution_count": 18
        }
      ]
    },
    {
      "cell_type": "code",
      "source": [
        "sales_Q1['Japan']"
      ],
      "metadata": {
        "colab": {
          "base_uri": "https://localhost:8080/"
        },
        "id": "jLNdI08J7YBF",
        "outputId": "3e93a92a-1b2f-4fa0-f442-1d734eb20764"
      },
      "execution_count": 19,
      "outputs": [
        {
          "output_type": "execute_result",
          "data": {
            "text/plain": [
              "80"
            ]
          },
          "metadata": {},
          "execution_count": 19
        }
      ]
    },
    {
      "cell_type": "code",
      "source": [
        "sales_Q1[0]"
      ],
      "metadata": {
        "colab": {
          "base_uri": "https://localhost:8080/"
        },
        "id": "i4xiJ7CA7X9z",
        "outputId": "c4734e83-0255-4987-81ee-a988c90cee45"
      },
      "execution_count": 20,
      "outputs": [
        {
          "output_type": "execute_result",
          "data": {
            "text/plain": [
              "80"
            ]
          },
          "metadata": {},
          "execution_count": 20
        }
      ]
    },
    {
      "cell_type": "code",
      "source": [
        "sales_Q1.keys()"
      ],
      "metadata": {
        "colab": {
          "base_uri": "https://localhost:8080/"
        },
        "id": "V7n_8nMQ7X6U",
        "outputId": "f8d2732d-2880-4eb1-cf5a-aaf427c16bf2"
      },
      "execution_count": 21,
      "outputs": [
        {
          "output_type": "execute_result",
          "data": {
            "text/plain": [
              "Index(['Japan', 'China', 'India', 'USA'], dtype='object')"
            ]
          },
          "metadata": {},
          "execution_count": 21
        }
      ]
    },
    {
      "cell_type": "code",
      "source": [
        "sales_Q1 * 2"
      ],
      "metadata": {
        "colab": {
          "base_uri": "https://localhost:8080/"
        },
        "id": "K0Mkg8Sm7Xyp",
        "outputId": "827fedae-f629-4a0a-ef7f-47e3d3264751"
      },
      "execution_count": 22,
      "outputs": [
        {
          "output_type": "execute_result",
          "data": {
            "text/plain": [
              "Japan    160\n",
              "China    900\n",
              "India    400\n",
              "USA      500\n",
              "dtype: int64"
            ]
          },
          "metadata": {},
          "execution_count": 22
        }
      ]
    },
    {
      "cell_type": "code",
      "source": [
        "sales_Q2 / 100"
      ],
      "metadata": {
        "colab": {
          "base_uri": "https://localhost:8080/"
        },
        "id": "3zyjgcZH9lW-",
        "outputId": "ebe0cc64-3097-4515-a68d-ebf2633a3812"
      },
      "execution_count": 23,
      "outputs": [
        {
          "output_type": "execute_result",
          "data": {
            "text/plain": [
              "Brazil    1.0\n",
              "China     5.0\n",
              "India     2.1\n",
              "USA       2.6\n",
              "dtype: float64"
            ]
          },
          "metadata": {},
          "execution_count": 23
        }
      ]
    },
    {
      "cell_type": "code",
      "source": [
        "sales_Q1 + sales_Q2"
      ],
      "metadata": {
        "colab": {
          "base_uri": "https://localhost:8080/"
        },
        "id": "emquA3dM9lZa",
        "outputId": "d6b6d77f-9e78-4240-d47d-e7d6da2103a5"
      },
      "execution_count": 24,
      "outputs": [
        {
          "output_type": "execute_result",
          "data": {
            "text/plain": [
              "Brazil      NaN\n",
              "China     950.0\n",
              "India     410.0\n",
              "Japan       NaN\n",
              "USA       510.0\n",
              "dtype: float64"
            ]
          },
          "metadata": {},
          "execution_count": 24
        }
      ]
    },
    {
      "cell_type": "code",
      "source": [
        "sales_Q1.add(sales_Q2,fill_value=0)"
      ],
      "metadata": {
        "colab": {
          "base_uri": "https://localhost:8080/"
        },
        "id": "9ibYJ1gF9ldu",
        "outputId": "c5ed8cb8-52d1-4238-a60e-d5e47f3dfd91"
      },
      "execution_count": 25,
      "outputs": [
        {
          "output_type": "execute_result",
          "data": {
            "text/plain": [
              "Brazil    100.0\n",
              "China     950.0\n",
              "India     410.0\n",
              "Japan      80.0\n",
              "USA       510.0\n",
              "dtype: float64"
            ]
          },
          "metadata": {},
          "execution_count": 25
        }
      ]
    }
  ]
}